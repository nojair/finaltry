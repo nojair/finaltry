{
 "cells": [
  {
   "cell_type": "code",
   "execution_count": null,
   "metadata": {},
   "outputs": [],
   "source": [
    "from control import *\n",
    "import numpy as np\n",
    "import matplotlib.pyplot as plt"
   ]
  },
  {
   "cell_type": "code",
   "execution_count": null,
   "metadata": {},
   "outputs": [],
   "source": [
    "kp = 0.0361 \n",
    "ki = 0.000731\n",
    "kd = 0.6999"
   ]
  },
  {
   "cell_type": "code",
   "execution_count": null,
   "metadata": {},
   "outputs": [],
   "source": [
    "plant = tf([1], [64,9.6,0.48,0.008])\n",
    "pid = tf([kd,kp,ki], [1,0])"
   ]
  },
  {
   "cell_type": "code",
   "execution_count": null,
   "metadata": {},
   "outputs": [],
   "source": [
    "plant"
   ]
  },
  {
   "cell_type": "code",
   "execution_count": null,
   "metadata": {},
   "outputs": [],
   "source": [
    "sys = feedback(pid, plant, sign=1)"
   ]
  },
  {
   "cell_type": "code",
   "execution_count": null,
   "metadata": {},
   "outputs": [],
   "source": [
    "time = np.arange(0,300)"
   ]
  },
  {
   "cell_type": "code",
   "execution_count": null,
   "metadata": {},
   "outputs": [],
   "source": [
    "sys1 = feedback(pid*plant, 1)"
   ]
  },
  {
   "cell_type": "code",
   "execution_count": null,
   "metadata": {},
   "outputs": [],
   "source": [
    "e, q = step_response(sys, T=time, X0=0.0, input=None, output=None, transpose=False, return_x=False)"
   ]
  },
  {
   "cell_type": "code",
   "execution_count": null,
   "metadata": {
    "scrolled": false
   },
   "outputs": [],
   "source": [
    "plt.plot(e,q)\n",
    "#plt.ylim([0,1.5])\n",
    "plt.ylabel(r'Magnitude')\n",
    "plt.xlabel(r'Time (sec)')\n",
    "plt.grid()\n",
    "plt.show"
   ]
  },
  {
   "cell_type": "code",
   "execution_count": null,
   "metadata": {},
   "outputs": [],
   "source": []
  },
  {
   "cell_type": "code",
   "execution_count": 79,
   "metadata": {},
   "outputs": [],
   "source": [
    "import matplotlib\n",
    "import numpy as np\n",
    "import matplotlib.pyplot as plt\n",
    "import scipy\n",
    "from scipy import signal\n",
    "from control import *"
   ]
  },
  {
   "cell_type": "code",
   "execution_count": 80,
   "metadata": {},
   "outputs": [],
   "source": [
    "# Plant\n",
    "num = [1]\n",
    "den = [64,9.6,0.48,0.008]\n",
    "G = tf(num, den)\n",
    "\n",
    "# Plant Step Response\n",
    "t, s = step_response(G)\n",
    "\n",
    "#PID Controller\n",
    "kp = 0.0361 \n",
    "ki = 0.000731\n",
    "kd = 0.6999\n",
    "\n",
    "pid_num = [kd, kp, ki]\n",
    "pid_den = [1, 0]\n",
    "C = tf(pid_num,pid_den)\n",
    "\n",
    "# System\n",
    "T = feedback(C*G,1)"
   ]
  },
  {
   "cell_type": "code",
   "execution_count": 83,
   "metadata": {},
   "outputs": [
    {
     "data": {
      "text/plain": [
       "<function matplotlib.pyplot.show>"
      ]
     },
     "execution_count": 83,
     "metadata": {},
     "output_type": "execute_result"
    },
    {
     "data": {
      "image/png": "[encoded data removed]",
      "text/plain": [
       "<Figure size 432x288 with 1 Axes>"
      ]
     },
     "metadata": {},
     "output_type": "display_data"
    }
   ],
   "source": [
    "# PID compensated Step Response\n",
    "t, s = step_response(T)\n",
    "target = np.linspace(1, 1, num=len(t))\n",
    "plt.figure()\n",
    "#plt.plot(t,s,t,target)\n",
    "plt.plot(t,s)\n",
    "plt.ylim([0,1.5])\n",
    "plt.ylabel(r'Magnitude')\n",
    "plt.xlabel(r'Time (sec)')\n",
    "plt.grid()\n",
    "plt.show"
   ]
  },
  {
   "cell_type": "code",
   "execution_count": null,
   "metadata": {},
   "outputs": [],
   "source": []
  },
  {
   "cell_type": "code",
   "execution_count": null,
   "metadata": {},
   "outputs": [],
   "source": []
  },
  {
   "cell_type": "code",
   "execution_count": null,
   "metadata": {},
   "outputs": [],
   "source": []
  },
  {
   "cell_type": "code",
   "execution_count": null,
   "metadata": {},
   "outputs": [],
   "source": []
  },
  {
   "cell_type": "code",
   "execution_count": null,
   "metadata": {},
   "outputs": [],
   "source": []
  },
  {
   "cell_type": "code",
   "execution_count": 2,
   "metadata": {},
   "outputs": [],
   "source": [
    "from deap import base, creator\n",
    "# Crear clase FITNESS: ( Nombre de la clase, Delegando la clase como fitness, Posibles valores min y max del fitness )\n",
    "creator.create(\"ControllerFitness\", base.Fitness, weights=(-1.0,))\n",
    "\n",
    "# Crear clase CROMOSOMA: ( Nombre de la clase, type de los valores de la clase, Establecer fitness con la clase anterior )\n",
    "creator.create(\"Controller\", list, fitness=creator.ControllerFitness)"
   ]
  },
  {
   "cell_type": "code",
   "execution_count": 50,
   "metadata": {},
   "outputs": [],
   "source": [
    "import random\n",
    "from deap import tools\n",
    "\n",
    "IND_SIZE  = 30 # ki bits + kp bits + kd bits\n",
    "\n",
    "# Functions to initialize populations from individuals\n",
    "\n",
    "toolbox = base.Toolbox()\n",
    "\n",
    "# Crear el ATRIBUTO de cromosomas ( Nombre del registro para el toolbox, Función para crear un cromosoma aleatorio )\n",
    "toolbox.register(\"bit_attribute\", random.choice, '10') # random.randint, 0, 1)\n",
    "\n",
    "# Crear el CROMOSOMA ( Nombre del registro, , La clase cromosoma, La clase atributo, Tamaño de la población )\n",
    "# Cuando se llame a toolbox.individual(), este llamará a tool.initRepeat()\n",
    "toolbox.register(\"controller\", tools.initRepeat, creator.Controller, toolbox.bit_attribute, n=IND_SIZE)\n",
    "\n",
    "# Crear la POBLACIÓN ( Nombre del registro, , Type del cromosoma, El cromosoma )\n",
    "toolbox.register(\"population\", tools.initRepeat, list, toolbox.controller)"
   ]
  },
  {
   "cell_type": "code",
   "execution_count": 74,
   "metadata": {},
   "outputs": [],
   "source": [
    "ind = toolbox.controller()"
   ]
  },
  {
   "cell_type": "code",
   "execution_count": null,
   "metadata": {},
   "outputs": [],
   "source": []
  },
  {
   "cell_type": "code",
   "execution_count": 78,
   "metadata": {},
   "outputs": [
    {
     "data": {
      "text/plain": [
       "612"
      ]
     },
     "execution_count": 78,
     "metadata": {},
     "output_type": "execute_result"
    }
   ],
   "source": [
    "def evaluate(controller):\n",
    "    controller = ''.join(controller)\n",
    "    \n",
    "    # PID controller\n",
    "    ki = int(controller[0:10],2)\n",
    "    kp = int(controller[10:20],2)\n",
    "    kd = int(controller[20:30],2)\n",
    "    \n",
    "    # Plant\n",
    "    num = [1]\n",
    "    den = [64,9.6,0.48,0.008]\n",
    "    P = tf(num, den)\n",
    "    \n",
    "    pid_num = [kd, kp, ki]\n",
    "    pid_den = [1, 0]\n",
    "    C = tf(pid_num,pid_den)\n",
    "\n",
    "    # System\n",
    "    T = feedback(C*G,1)\n",
    "    \n",
    "    return kd\n",
    "\n",
    "evaluate(ind)"
   ]
  },
  {
   "cell_type": "code",
   "execution_count": null,
   "metadata": {},
   "outputs": [],
   "source": [
    "toolbox.register(\"mate\", tools.cxTwoPoint)\n",
    "toolbox.register(\"mutate\", tools.mutGaussian, mu=0, sigma=1, indpb=0.1)\n",
    "toolbox.register(\"select\", tools.selTournament, tournsize=3)\n",
    "toolbox.register(\"evaluate\", evaluate)"
   ]
  }
 ],
 "metadata": {
  "kernelspec": {
   "display_name": "Python 3",
   "language": "python",
   "name": "python3"
  },
  "language_info": {
   "codemirror_mode": {
    "name": "ipython",
    "version": 3
   },
   "file_extension": ".py",
   "mimetype": "text/x-python",
   "name": "python",
   "nbconvert_exporter": "python",
   "pygments_lexer": "ipython3",
   "version": "3.5.3"
  }
 },
 "nbformat": 4,
 "nbformat_minor": 2
}
