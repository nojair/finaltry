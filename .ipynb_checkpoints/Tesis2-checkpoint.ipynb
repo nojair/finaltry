{
 "cells": [
  {
   "cell_type": "markdown",
   "metadata": {},
   "source": [
    "### **Instalando e importando las librerías necesarias**"
   ]
  },
  {
   "cell_type": "code",
   "execution_count": null,
   "metadata": {},
   "outputs": [],
   "source": [
    "import sys\n",
    "!{sys.executable} -m pip install pyserial times numpy pandas xlsxwriter matplotlib sklearn deap"
   ]
  },
  {
   "cell_type": "code",
   "execution_count": 1,
   "metadata": {},
   "outputs": [],
   "source": [
    "import serial\n",
    "from time import time\n",
    "import numpy as np\n",
    "import pandas as pd\n",
    "import xlsxwriter\n",
    "import matplotlib.pyplot as plt"
   ]
  },
  {
   "cell_type": "code",
   "execution_count": null,
   "metadata": {},
   "outputs": [],
   "source": []
  },
  {
   "cell_type": "code",
   "execution_count": null,
   "metadata": {},
   "outputs": [],
   "source": []
  },
  {
   "cell_type": "markdown",
   "metadata": {},
   "source": [
    "### **Almacenamiento de datos en memoria y creación de la hoja de cálculo**"
   ]
  },
  {
   "cell_type": "code",
   "execution_count": 2,
   "metadata": {
    "scrolled": true
   },
   "outputs": [
    {
     "ename": "SerialException",
     "evalue": "[Errno 13] could not open port /dev/ttyUSB0: [Errno 13] Permission denied: '/dev/ttyUSB0'",
     "output_type": "error",
     "traceback": [
      "\u001b[0;31m---------------------------------------------------------------------------\u001b[0m",
      "\u001b[0;31mPermissionError\u001b[0m                           Traceback (most recent call last)",
      "\u001b[0;32m/usr/local/lib/python3.5/dist-packages/serial/serialposix.py\u001b[0m in \u001b[0;36mopen\u001b[0;34m(self)\u001b[0m\n\u001b[1;32m    264\u001b[0m         \u001b[0;32mtry\u001b[0m\u001b[0;34m:\u001b[0m\u001b[0;34m\u001b[0m\u001b[0m\n\u001b[0;32m--> 265\u001b[0;31m             \u001b[0mself\u001b[0m\u001b[0;34m.\u001b[0m\u001b[0mfd\u001b[0m \u001b[0;34m=\u001b[0m \u001b[0mos\u001b[0m\u001b[0;34m.\u001b[0m\u001b[0mopen\u001b[0m\u001b[0;34m(\u001b[0m\u001b[0mself\u001b[0m\u001b[0;34m.\u001b[0m\u001b[0mportstr\u001b[0m\u001b[0;34m,\u001b[0m \u001b[0mos\u001b[0m\u001b[0;34m.\u001b[0m\u001b[0mO_RDWR\u001b[0m \u001b[0;34m|\u001b[0m \u001b[0mos\u001b[0m\u001b[0;34m.\u001b[0m\u001b[0mO_NOCTTY\u001b[0m \u001b[0;34m|\u001b[0m \u001b[0mos\u001b[0m\u001b[0;34m.\u001b[0m\u001b[0mO_NONBLOCK\u001b[0m\u001b[0;34m)\u001b[0m\u001b[0;34m\u001b[0m\u001b[0m\n\u001b[0m\u001b[1;32m    266\u001b[0m         \u001b[0;32mexcept\u001b[0m \u001b[0mOSError\u001b[0m \u001b[0;32mas\u001b[0m \u001b[0mmsg\u001b[0m\u001b[0;34m:\u001b[0m\u001b[0;34m\u001b[0m\u001b[0m\n",
      "\u001b[0;31mPermissionError\u001b[0m: [Errno 13] Permission denied: '/dev/ttyUSB0'",
      "\nDuring handling of the above exception, another exception occurred:\n",
      "\u001b[0;31mSerialException\u001b[0m                           Traceback (most recent call last)",
      "\u001b[0;32m<ipython-input-2-1c71c3073721>\u001b[0m in \u001b[0;36m<module>\u001b[0;34m()\u001b[0m\n\u001b[0;32m----> 1\u001b[0;31m \u001b[0mser\u001b[0m \u001b[0;34m=\u001b[0m \u001b[0mserial\u001b[0m\u001b[0;34m.\u001b[0m\u001b[0mSerial\u001b[0m\u001b[0;34m(\u001b[0m\u001b[0;34m'/dev/ttyUSB0'\u001b[0m\u001b[0;34m,\u001b[0m \u001b[0;36m9600\u001b[0m\u001b[0;34m)\u001b[0m \u001b[0;31m# Configuración del puerto serial\u001b[0m\u001b[0;34m\u001b[0m\u001b[0m\n\u001b[0m\u001b[1;32m      2\u001b[0m \u001b[0;34m\u001b[0m\u001b[0m\n\u001b[1;32m      3\u001b[0m \u001b[0;31m# Vector para valores entre 0 y 255\u001b[0m\u001b[0;34m\u001b[0m\u001b[0;34m\u001b[0m\u001b[0m\n\u001b[1;32m      4\u001b[0m \u001b[0minputData\u001b[0m \u001b[0;34m=\u001b[0m \u001b[0;34m[\u001b[0m\u001b[0;34m]\u001b[0m\u001b[0;34m\u001b[0m\u001b[0m\n\u001b[1;32m      5\u001b[0m \u001b[0;31m# Vector para valores de velocidad (rad/s)\u001b[0m\u001b[0;34m\u001b[0m\u001b[0;34m\u001b[0m\u001b[0m\n",
      "\u001b[0;32m/usr/local/lib/python3.5/dist-packages/serial/serialutil.py\u001b[0m in \u001b[0;36m__init__\u001b[0;34m(self, port, baudrate, bytesize, parity, stopbits, timeout, xonxoff, rtscts, write_timeout, dsrdtr, inter_byte_timeout, exclusive, **kwargs)\u001b[0m\n\u001b[1;32m    238\u001b[0m \u001b[0;34m\u001b[0m\u001b[0m\n\u001b[1;32m    239\u001b[0m         \u001b[0;32mif\u001b[0m \u001b[0mport\u001b[0m \u001b[0;32mis\u001b[0m \u001b[0;32mnot\u001b[0m \u001b[0;32mNone\u001b[0m\u001b[0;34m:\u001b[0m\u001b[0;34m\u001b[0m\u001b[0m\n\u001b[0;32m--> 240\u001b[0;31m             \u001b[0mself\u001b[0m\u001b[0;34m.\u001b[0m\u001b[0mopen\u001b[0m\u001b[0;34m(\u001b[0m\u001b[0;34m)\u001b[0m\u001b[0;34m\u001b[0m\u001b[0m\n\u001b[0m\u001b[1;32m    241\u001b[0m \u001b[0;34m\u001b[0m\u001b[0m\n\u001b[1;32m    242\u001b[0m     \u001b[0;31m#  -  -  -  -  -  -  -  -  -  -  -  -  -  -  -  -  -  -  -  -  -  -  -  -\u001b[0m\u001b[0;34m\u001b[0m\u001b[0;34m\u001b[0m\u001b[0m\n",
      "\u001b[0;32m/usr/local/lib/python3.5/dist-packages/serial/serialposix.py\u001b[0m in \u001b[0;36mopen\u001b[0;34m(self)\u001b[0m\n\u001b[1;32m    266\u001b[0m         \u001b[0;32mexcept\u001b[0m \u001b[0mOSError\u001b[0m \u001b[0;32mas\u001b[0m \u001b[0mmsg\u001b[0m\u001b[0;34m:\u001b[0m\u001b[0;34m\u001b[0m\u001b[0m\n\u001b[1;32m    267\u001b[0m             \u001b[0mself\u001b[0m\u001b[0;34m.\u001b[0m\u001b[0mfd\u001b[0m \u001b[0;34m=\u001b[0m \u001b[0;32mNone\u001b[0m\u001b[0;34m\u001b[0m\u001b[0m\n\u001b[0;32m--> 268\u001b[0;31m             \u001b[0;32mraise\u001b[0m \u001b[0mSerialException\u001b[0m\u001b[0;34m(\u001b[0m\u001b[0mmsg\u001b[0m\u001b[0;34m.\u001b[0m\u001b[0merrno\u001b[0m\u001b[0;34m,\u001b[0m \u001b[0;34m\"could not open port {}: {}\"\u001b[0m\u001b[0;34m.\u001b[0m\u001b[0mformat\u001b[0m\u001b[0;34m(\u001b[0m\u001b[0mself\u001b[0m\u001b[0;34m.\u001b[0m\u001b[0m_port\u001b[0m\u001b[0;34m,\u001b[0m \u001b[0mmsg\u001b[0m\u001b[0;34m)\u001b[0m\u001b[0;34m)\u001b[0m\u001b[0;34m\u001b[0m\u001b[0m\n\u001b[0m\u001b[1;32m    269\u001b[0m         \u001b[0;31m#~ fcntl.fcntl(self.fd, fcntl.F_SETFL, 0)  # set blocking\u001b[0m\u001b[0;34m\u001b[0m\u001b[0;34m\u001b[0m\u001b[0m\n\u001b[1;32m    270\u001b[0m \u001b[0;34m\u001b[0m\u001b[0m\n",
      "\u001b[0;31mSerialException\u001b[0m: [Errno 13] could not open port /dev/ttyUSB0: [Errno 13] Permission denied: '/dev/ttyUSB0'"
     ]
    }
   ],
   "source": [
    "ser = serial.Serial('/dev/ttyUSB0', 9600) # Configuración del puerto serial\n",
    "\n",
    "# Vector para valores entre 0 y 255\n",
    "inputData = []\n",
    "# Vector para valores de velocidad (rad/s)\n",
    "outputData = [] \n",
    "\n",
    "# Número de muestras requeridas\n",
    "data_lenght = 20000\n",
    "# Variable para almacenar la longitud de outputData\n",
    "L = 0\n",
    "\n",
    "# Tirar datos basura en el serial buffer\n",
    "ser.flushInput()\n",
    "\n",
    "while L < data_lenght:\n",
    "    ser.reset_input_buffer()\n",
    "    \n",
    "    # Leer valor actual del puerto serial\n",
    "    data = ser.readline().decode(\"utf-8\").split(' ')\n",
    "    \n",
    "    # Agregar los valores muestreados a inputData y outputData\n",
    "    try:\n",
    "        inputData.append(float(data[0]))\n",
    "        outputData.append(float(data[1]))\n",
    "    \n",
    "    except: pass\n",
    "    \n",
    "    # Actualizar variable L\n",
    "    L = len(outputData)\n",
    "\n",
    "# Cerrar puerto serial\n",
    "ser.close()\n",
    "\n",
    "# Creación de la hoja de cálculo a partir de inputData y outputData\n",
    "workbook = xlsxwriter.Workbook('motor-new.xlsx')\n",
    "worksheet = workbook.add_worksheet()\n",
    "\n",
    "worksheet.write('A1', 'time')\n",
    "worksheet.write('B1', 'u')\n",
    "worksheet.write('C1', 'y')\n",
    "\n",
    "k  = 1\n",
    "Ts = 0.22848\n",
    "\n",
    "for entry, output in zip(inputData, outputData):\n",
    "    worksheet.write(k, 0, Ts * k)\n",
    "    worksheet.write(k, 1, entry)\n",
    "    worksheet.write(k, 2, output)\n",
    "    k += 1\n",
    "    \n",
    "workbook.close()"
   ]
  },
  {
   "cell_type": "code",
   "execution_count": null,
   "metadata": {},
   "outputs": [],
   "source": []
  },
  {
   "cell_type": "markdown",
   "metadata": {},
   "source": [
    "### **Generación de los conjuntos de entrada X e Y**"
   ]
  },
  {
   "cell_type": "code",
   "execution_count": 2,
   "metadata": {},
   "outputs": [],
   "source": [
    "x = pd.read_excel('motor.xlsx')\n",
    "x = x.drop('time', axis=1)\n",
    "L = len(x)\n",
    "\n",
    "# Columnas u(k-1) y y(k-1)\n",
    "q1 = pd.DataFrame()\n",
    "q1['u1'] = pd.Series(x['u'], index=x.index)\n",
    "q1['y1'] = pd.Series(x['y'], index=x.index)\n",
    "q1 = q1.shift(periods=-1, freq=None, axis=0)\n",
    "\n",
    "x['u1'] = pd.Series(q1['u1'], index=x.index)\n",
    "x['y1'] = pd.Series(q1['y1'], index=x.index)\n",
    "\n",
    "# Columnas u(k-2) y y(k-2)\n",
    "q2 = pd.DataFrame()\n",
    "q2['u2'] = pd.Series(x['u'], index=x.index)\n",
    "q2['y2'] = pd.Series(x['y'], index=x.index)\n",
    "q2 = q2.shift(periods=-2, freq=None, axis=0)\n",
    "\n",
    "x['u2'] = pd.Series(q2['u2'], index=x.index)\n",
    "x['y2'] = pd.Series(q2['y2'], index=x.index)\n",
    "\n",
    "# Columnas u(k-3) y y(k-3)\n",
    "q3 = pd.DataFrame()\n",
    "q3['u3'] = pd.Series(x['u'], index=x.index)\n",
    "q3['y3'] = pd.Series(x['y'], index=x.index)\n",
    "q3 = q3.shift(periods=-3, freq=None, axis=0)\n",
    "\n",
    "x['u3'] = pd.Series(q3['u3'], index=x.index)\n",
    "x['y3'] = pd.Series(q3['y3'], index=x.index)\n",
    "\n",
    "# Columnas u(k-4) y y(k-4)\n",
    "q4 = pd.DataFrame()\n",
    "q4['u4'] = pd.Series(x['u'], index=x.index)\n",
    "q4['y4'] = pd.Series(x['y'], index=x.index)\n",
    "q4 = q4.shift(periods=-4, freq=None, axis=0)\n",
    "\n",
    "x['u4'] = pd.Series(q4['u4'], index=x.index)\n",
    "x['y4'] = pd.Series(q4['y4'], index=x.index)\n",
    "\n",
    "x = x.drop(x.index[L-4:L])\n",
    "\n",
    "y = pd.DataFrame()\n",
    "y['y'] = x['y'] # Conjunto Y listo\n",
    "\n",
    "x = x.drop('y', axis=1) # Conjunto x listo"
   ]
  },
  {
   "cell_type": "code",
   "execution_count": null,
   "metadata": {},
   "outputs": [],
   "source": []
  },
  {
   "cell_type": "markdown",
   "metadata": {},
   "source": [
    "### **Entrenamiento y prueba del modelo**"
   ]
  },
  {
   "cell_type": "code",
   "execution_count": 3,
   "metadata": {},
   "outputs": [],
   "source": [
    "from sklearn.model_selection import train_test_split\n",
    "\n",
    "# Separando los conjuntos de entrada: 60% para entrenamiento y 40% para test\n",
    "x_train, x_test, y_train, y_test = train_test_split(x,y,test_size=0.4)"
   ]
  },
  {
   "cell_type": "code",
   "execution_count": 4,
   "metadata": {},
   "outputs": [],
   "source": [
    "from sklearn.linear_model import ElasticNet\n",
    "\n",
    "# Instanciando el modelo\n",
    "model = ElasticNet()"
   ]
  },
  {
   "cell_type": "code",
   "execution_count": 5,
   "metadata": {},
   "outputs": [
    {
     "name": "stderr",
     "output_type": "stream",
     "text": [
      "/usr/local/lib/python3.5/dist-packages/sklearn/linear_model/coordinate_descent.py:491: ConvergenceWarning: Objective did not converge. You might want to increase the number of iterations. Fitting data with very small alpha may cause precision problems.\n",
      "  ConvergenceWarning)\n"
     ]
    },
    {
     "data": {
      "text/plain": [
       "ElasticNet(alpha=1.0, copy_X=True, fit_intercept=True, l1_ratio=0.5,\n",
       "      max_iter=1000, normalize=False, positive=False, precompute=False,\n",
       "      random_state=None, selection='cyclic', tol=0.0001, warm_start=False)"
      ]
     },
     "execution_count": 5,
     "metadata": {},
     "output_type": "execute_result"
    }
   ],
   "source": [
    "# Entrenamiento del modelo\n",
    "model.fit(x_train, y_train)"
   ]
  },
  {
   "cell_type": "code",
   "execution_count": 6,
   "metadata": {},
   "outputs": [
    {
     "data": {
      "text/plain": [
       "0.9972489988790282"
      ]
     },
     "execution_count": 6,
     "metadata": {},
     "output_type": "execute_result"
    }
   ],
   "source": [
    "# Porcentaje de ajuste del modelo sobre el conjunto de test\n",
    "model.score(x_test,y_test)"
   ]
  },
  {
   "cell_type": "code",
   "execution_count": 7,
   "metadata": {
    "scrolled": true
   },
   "outputs": [
    {
     "data": {
      "text/plain": [
       "([array([2528.,   65.,  336.,  256.,  342.,  757.,  615.,  995., 1527.,\n",
       "          578.]),\n",
       "  array([2517.,   65.,  338.,  274.,  336.,  759.,  617.,  995., 1512.,\n",
       "          586.])],\n",
       " array([-19.92369819,  19.73367163,  59.39104145,  99.04841127,\n",
       "        138.70578108, 178.3631509 , 218.02052072, 257.67789054,\n",
       "        297.33526036, 336.99263018, 376.65      ]),\n",
       " <a list of 2 Lists of Patches objects>)"
      ]
     },
     "execution_count": 7,
     "metadata": {},
     "output_type": "execute_result"
    },
    {
     "data": {
      "image/png": "[encoded data removed]",
      "text/plain": [
       "<Figure size 432x288 with 1 Axes>"
      ]
     },
     "metadata": {},
     "output_type": "display_data"
    }
   ],
   "source": [
    "# Inspección visual como una de las medidas para prevenir sobre ajuste\n",
    "predicted = model.predict(x_test)\n",
    "import matplotlib.pyplot as plt\n",
    "%matplotlib inline\n",
    "\n",
    "plt.hist([predicted, y_test['y']])"
   ]
  },
  {
   "cell_type": "code",
   "execution_count": null,
   "metadata": {},
   "outputs": [],
   "source": []
  },
  {
   "cell_type": "markdown",
   "metadata": {},
   "source": [
    "### **Sintonización del controlador mediante algoritmos genéticos**"
   ]
  },
  {
   "cell_type": "code",
   "execution_count": null,
   "metadata": {},
   "outputs": [],
   "source": [
    "from deap import base, creator\n",
    "\n",
    "# Configuración para buscar controladores que minimizen el error\n",
    "creator.create(\"ControllerFitness\", base.Fitness, weights=(-1.0,))\n",
    "# Creación de la clase para crear individuos (cromosomas)\n",
    "creator.create(\"Controller\", list, fitness=creator.ControllerFitness)"
   ]
  },
  {
   "cell_type": "code",
   "execution_count": null,
   "metadata": {},
   "outputs": [],
   "source": [
    "import random\n",
    "from deap import tools\n",
    "\n",
    "# ki bits + kp bits + kd bits\n",
    "IND_SIZE = 30\n",
    "\n",
    "# Configuración de los individuos como palabras binarias\n",
    "toolbox = base.Toolbox()\n",
    "toolbox.register(\"bit_attribute\", random.randint, 0, 1)\n",
    "toolbox.register(\"controller\", tools.initRepeat, creator.Controller, toolbox.bit_attribute, n=IND_SIZE)\n",
    "toolbox.register(\"population\", tools.initRepeat, list, toolbox.controller)"
   ]
  },
  {
   "cell_type": "code",
   "execution_count": null,
   "metadata": {},
   "outputs": [],
   "source": []
  },
  {
   "cell_type": "markdown",
   "metadata": {},
   "source": [
    "### **Evaluación de la performance del controlador decodificado**"
   ]
  },
  {
   "cell_type": "code",
   "execution_count": null,
   "metadata": {},
   "outputs": [],
   "source": [
    "def evaluate(individuo):\n",
    "    \n",
    "    # =================== Decodificación de individuo ===================\n",
    "    controller = ''.join(map(str,individuo))\n",
    "    \n",
    "    # Palabra digitales\n",
    "    _kp = int(controller[0:10],2)\n",
    "    _ki = int(controller[10:20],2)\n",
    "    _kd = int(controller[20:30],2)\n",
    "    \n",
    "    # Valores decodificados\n",
    "    kp = 0 + _kp * ( (2 - 0) / (pow(2,10) - 1) )\n",
    "    ki = 0 + _ki * ( (2 - 0) / (pow(2,10) - 1) )\n",
    "    kd = 0 + _kd * ( (2 - 0) / (pow(2,10) - 1) )\n",
    "    # ====================================================================\n",
    "    \n",
    "    pid1 = 0\n",
    "    pid0 = 0\n",
    "    pid2 = 0\n",
    "    pid3 = 0\n",
    "    pid4 = 0\n",
    "    \n",
    "    error0 = 0\n",
    "    error1 = 0\n",
    "    error2 = 0\n",
    "    \n",
    "    y = 0\n",
    "    y1 = 0\n",
    "    y2 = 0\n",
    "    y3 = 0\n",
    "    y4 = 0\n",
    "    \n",
    "    E = [] # Vector de errores\n",
    "\n",
    "    setPoint = 200\n",
    "    Ts = 0.22848\n",
    "    \n",
    "    for k in np.arange(1000):      \n",
    "        q1 = kp + 0.5 * Ts * ki + (kd / Ts)\n",
    "        q2 = Ts * ki * 0.5 - kp - (2 * kd / Ts)\n",
    "        q3 = kd / Ts\n",
    "        \n",
    "        error2 = error1\n",
    "        error1 = error0\n",
    "        \n",
    "        pid4 = pid3\n",
    "        pid3 = pid2\n",
    "        pid2 = pid1\n",
    "        pid1 = pid0\n",
    "        \n",
    "        pid0 = pid1 + q1 * error0 + q2 * error1 + q3 * error2\n",
    "        \n",
    "        if (pid0 > 255):\n",
    "            pid0 = 255\n",
    "        elif (pid0 < 0):\n",
    "            pid0 = 0\n",
    "        else:\n",
    "            pid0 = pid0\n",
    "        \n",
    "        # Generación de una entrada \"u\"\n",
    "        u = {'pwm': [pid0], 'pwm1': [pid1], 'y1': [y1], 'pwm2': [pid2], 'y2': [y2], 'pwm3': [pid3], 'y3': [y3], 'pwm4': [pid4], 'y4': [y4]}\n",
    "        # Predicción del modelo para la entrada \"u\"\n",
    "        _y = model.predict(pd.DataFrame(data=u))\n",
    "        y = _y[0]\n",
    "        \n",
    "        # Implementación de límites de la planta real\n",
    "        if (y > 395):\n",
    "            y = 395\n",
    "        elif (y < 0):\n",
    "            y = 0\n",
    "    \n",
    "        error0 = setPoint - y\n",
    "            \n",
    "        y4 = y3\n",
    "        y3 = y2\n",
    "        y2 = y1\n",
    "        y1 = y\n",
    "\n",
    "        # Tiempo multiplicado por el valor absoluto del error\n",
    "        ITAE = error0*k*Ts\n",
    "        \n",
    "        E.append(ITAE)\n",
    "    \n",
    "    # Suma de errores (Criterio basado en la integral del tiempo multiplicado por el valor absoluto del error)\n",
    "    total_error = sum(list(map(abs, E)))\n",
    "    \n",
    "    return (total_error,)"
   ]
  },
  {
   "cell_type": "code",
   "execution_count": null,
   "metadata": {},
   "outputs": [],
   "source": []
  },
  {
   "cell_type": "markdown",
   "metadata": {},
   "source": [
    "### **Sintonización del controlador mediante algoritmos genéticos**"
   ]
  },
  {
   "cell_type": "code",
   "execution_count": null,
   "metadata": {},
   "outputs": [],
   "source": [
    "# Configuración de las funciones de crossover, mutación, seleccción y evaluación de individuos\n",
    "toolbox.register(\"mate\", tools.cxTwoPoint)\n",
    "toolbox.register(\"mutate\", tools.mutUniformInt, low=0, up=1, indpb=0.1)\n",
    "toolbox.register(\"select\", tools.selTournament, tournsize=3)\n",
    "toolbox.register(\"evaluate\", evaluate) # \"evaluate\": Misma función que decodifica y evalua el desempeño de un controlador"
   ]
  },
  {
   "cell_type": "code",
   "execution_count": null,
   "metadata": {},
   "outputs": [],
   "source": [
    "def main():\n",
    "    # Inicializar población\n",
    "    pop = toolbox.population(n=50)\n",
    "\n",
    "    # Factores de crossover, mutación y número de generaciones\n",
    "    CXPB, MUTPB, NGEN = 0.7, 0.5, 50\n",
    "\n",
    "    # Evaluar la población\n",
    "    fitnesses = list(map(toolbox.evaluate, pop))\n",
    "    for ind, fit in zip(pop, fitnesses):\n",
    "        ind.fitness.values = fit\n",
    "\n",
    "    minFit = (1,)\n",
    "\n",
    "    for g in range(NGEN):\n",
    "        # Seleccionando la siguiente generación\n",
    "        offspring = toolbox.select(pop, len(pop))\n",
    "        # Clonando los individuos seleccionados\n",
    "        offspring = list(map(toolbox.clone, offspring))\n",
    "\n",
    "        # Aplicando crossover y mutación\n",
    "        for child1, child2 in zip(offspring[::2], offspring[1::2]):\n",
    "            if random.random() < CXPB:\n",
    "                toolbox.mate(child1, child2)\n",
    "                del child1.fitness.values\n",
    "                del child2.fitness.values\n",
    "\n",
    "        for mutant in offspring:\n",
    "            if random.random() < MUTPB:\n",
    "                toolbox.mutate(mutant)\n",
    "                del mutant.fitness.values\n",
    "\n",
    "        # Evaluación de desempeño de los individuos con un finess inválido mediante\n",
    "        invalid_ind = [ind for ind in offspring if not ind.fitness.valid]\n",
    "        fitnesses = list(map(toolbox.evaluate, invalid_ind))\n",
    "        minFit = min(fitnesses)\n",
    "        for ind, fit in zip(invalid_ind, fitnesses):\n",
    "            ind.fitness.values = fit\n",
    "\n",
    "        # The population is entirely replaced by the offspring\n",
    "        pop[:] = offspring\n",
    "    \n",
    "    return pop"
   ]
  },
  {
   "cell_type": "code",
   "execution_count": null,
   "metadata": {},
   "outputs": [],
   "source": []
  },
  {
   "cell_type": "code",
   "execution_count": null,
   "metadata": {
    "scrolled": true
   },
   "outputs": [],
   "source": [
    "kx = main()"
   ]
  },
  {
   "cell_type": "code",
   "execution_count": null,
   "metadata": {},
   "outputs": [],
   "source": [
    "ITAE\n",
    "1 704.583037869811 1.348973607038123 0.7917888563049853 0.019550342130987292\n",
    "1 702.2004727363586 2.60019550342131 0.8602150537634409 0.019550342130987292\n",
    "1 523.8692196395626 0.7331378299120235 0.9286412512218963 0.0\n",
    "\n",
    "IAE\n",
    "782 1199.849186947899 2.2873900293255134 1.3294232649071358 0.0\n"
   ]
  },
  {
   "cell_type": "code",
   "execution_count": null,
   "metadata": {},
   "outputs": [],
   "source": []
  },
  {
   "cell_type": "code",
   "execution_count": null,
   "metadata": {},
   "outputs": [],
   "source": [
    "862 1217.350893984072 1.133919843597263 1.0557184750733137 0.0039100684261974585\n",
    "805 1172.2767031491114 1.1378299120234605 1.305962854349951 0.0\n",
    "889 1274.4001805125215 1.7341153470185728 0.8914956011730205 0.007820136852394917\n",
    "846 1280.9558326406589 1.1378299120234605 1.0557184750733137 0.015640273704789834"
   ]
  },
  {
   "cell_type": "code",
   "execution_count": 14,
   "metadata": {},
   "outputs": [],
   "source": [
    "def evaluateOne(p, i, d):\n",
    "    kp = p\n",
    "    ki = i\n",
    "    kd = d\n",
    "    \n",
    "    # =====================================================================================================\n",
    "    pid1 = 0\n",
    "    pid0 = 0\n",
    "    pid2 = 0\n",
    "    pid3 = 0\n",
    "    pid4 = 0\n",
    "    \n",
    "    error0 = 0\n",
    "    error1 = 0\n",
    "    error2 = 0\n",
    "\n",
    "    y = 0\n",
    "    y1 = 0\n",
    "    y2 = 0\n",
    "    y3 = 0\n",
    "    y4 = 0\n",
    "    \n",
    "    E = []\n",
    "\n",
    "    setPoint = 255\n",
    "    Ts = 0.22848\n",
    "    \n",
    "    for k in np.arange(1000):\n",
    "\n",
    "        if (k>400):\n",
    "            setPoint = 250#np.random.randint(low=150, high=250, size=None)\n",
    "        \n",
    "        q1 = kp + 0.5 * Ts * ki + (kd / Ts)\n",
    "        q2 = Ts * ki * 0.5 - kp - (2 * kd / Ts)\n",
    "        q3 = kd / Ts\n",
    "        \n",
    "        error2 = error1\n",
    "        error1 = error0\n",
    "        \n",
    "        pid4 = pid3\n",
    "        pid3 = pid2\n",
    "        pid2 = pid1\n",
    "        pid1 = pid0\n",
    "        \n",
    "        pid0 = pid1 + q1 * error0 + q2 * error1 + q3 * error2\n",
    "        \n",
    "        if (pid0 > 255):\n",
    "            pid0 = 255\n",
    "        elif (pid0 < 0):\n",
    "            pid0 = 0\n",
    "        else:\n",
    "            pid0 = pid0\n",
    "            \n",
    "        d = {'pwm': [pid0], 'pwm1': [pid1], 'y1': [y1], 'pwm2': [pid2], 'y2': [y2], 'pwm3': [pid3], 'y3': [y3], 'pwm4': [pid4], 'y4': [y4]}\n",
    "        _y = model.predict(pd.DataFrame(data=d))\n",
    "        y = _y[0]\n",
    "        \n",
    "        if (y > 374.5):\n",
    "            y = 374.5\n",
    "        elif (y < 0):\n",
    "            y = 0\n",
    "        else:\n",
    "            y = y\n",
    "    \n",
    "        error0 = setPoint - y\n",
    "            \n",
    "        y4 = y3\n",
    "        y3 = y2\n",
    "        y2 = y1\n",
    "        y1 = y\n",
    "\n",
    "        E.append(y)\n",
    "        \n",
    "        #print(setPoint)\n",
    "\n",
    "    Ex = E\n",
    "    E = list(map(abs, E))\n",
    "    E.reverse()\n",
    "    ef = E[0]\n",
    "    n=0\n",
    "    state=True\n",
    "    for e in E:\n",
    "        if (e == ef and state == True):\n",
    "            n = n + 1\n",
    "        else:\n",
    "            state = False\n",
    "            \n",
    "    #total_error = sum(map(abs, E))\n",
    "\n",
    "    #total_error = np.trapz(E, dx=Ts);\n",
    "    total_error = n\n",
    "    \n",
    "    #print(total_error, sum(Ex))\n",
    "    \n",
    "    return [Ex, setPoint]"
   ]
  },
  {
   "cell_type": "code",
   "execution_count": null,
   "metadata": {},
   "outputs": [],
   "source": []
  },
  {
   "cell_type": "markdown",
   "metadata": {},
   "source": [
    "### **Visualización del setpoint y la velocidad en la simulación**\n",
    "velocidad, setopoint = evaluateOne(Ganancia proporcional, Ganancia integral, Ganancia derivativa)"
   ]
  },
  {
   "cell_type": "code",
   "execution_count": 17,
   "metadata": {},
   "outputs": [],
   "source": [
    "y, setPoint = evaluateOne(1.133919843597263, 1.0557184750733137, 0.0039100684261974585);"
   ]
  },
  {
   "cell_type": "code",
   "execution_count": 18,
   "metadata": {
    "scrolled": false
   },
   "outputs": [
    {
     "data": {
      "text/plain": [
       "<function matplotlib.pyplot.show>"
      ]
     },
     "execution_count": 18,
     "metadata": {},
     "output_type": "execute_result"
    },
    {
     "data": {
      "image/png": "[encoded data removed]",
      "text/plain": [
       "<Figure size 432x288 with 1 Axes>"
      ]
     },
     "metadata": {},
     "output_type": "display_data"
    }
   ],
   "source": [
    "L=0 # punto de inicio\n",
    "H=100 # punto final\n",
    "t = np.linspace(0, len(y), num=len(y))\n",
    "target = np.linspace(setPoint, setPoint, num=len(y))\n",
    "plt.figure()\n",
    "plt.plot(t[L:H],y[L:H], t[L:H], target[L:H])\n",
    "plt.ylabel(r'Magnitude')\n",
    "plt.xlabel(r'Time (sec)')\n",
    "plt.grid()\n",
    "plt.show"
   ]
  },
  {
   "cell_type": "code",
   "execution_count": null,
   "metadata": {},
   "outputs": [],
   "source": []
  },
  {
   "cell_type": "code",
   "execution_count": null,
   "metadata": {},
   "outputs": [],
   "source": []
  },
  {
   "cell_type": "code",
   "execution_count": null,
   "metadata": {},
   "outputs": [],
   "source": [
    "d = {'pwm': [0], 'pwm1': [0], 'y1': [0], 'pwm2': [0], 'y2': [0], 'pwm3': [0], 'y3': [0], 'pwm4': [0], 'y4': [0]}\n",
    "_y = model.predict(pd.DataFrame(data=d))\n",
    "_y"
   ]
  },
  {
   "cell_type": "code",
   "execution_count": null,
   "metadata": {},
   "outputs": [],
   "source": []
  }
 ],
 "metadata": {
  "kernelspec": {
   "display_name": "Python 3",
   "language": "python",
   "name": "python3"
  },
  "language_info": {
   "codemirror_mode": {
    "name": "ipython",
    "version": 3
   },
   "file_extension": ".py",
   "mimetype": "text/x-python",
   "name": "python",
   "nbconvert_exporter": "python",
   "pygments_lexer": "ipython3",
   "version": "3.5.3"
  }
 },
 "nbformat": 4,
 "nbformat_minor": 2
}
