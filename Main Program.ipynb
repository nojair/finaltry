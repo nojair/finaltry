{
 "cells": [
  {
   "cell_type": "code",
   "execution_count": 18,
   "metadata": {},
   "outputs": [],
   "source": [
    "from control import *\n",
    "import numpy as np\n",
    "import matplotlib.pyplot as plt"
   ]
  },
  {
   "cell_type": "code",
   "execution_count": 57,
   "metadata": {},
   "outputs": [],
   "source": [
    "# kp, ki, kd\n",
    "# 0.005493331705679495, 0.00024414807580797754, 30.81524926686217\n",
    "# 3.9100684261974585, 18.57282502443793, 912.0234604105572\n",
    "# 0.9775171065493646, 0.9775171065493646, 999.0224828934506\n",
    "# 4.887585532746823, 275.65982404692085, 984.3597262952102\n",
    "# 7.820136852394917, 85.04398826979472, 936.4613880742913\n",
    "# 31.28054740957967, 44.965786901270775, 956.989247311828\n",
    "# 8.79765395894428, 75.26881720430107, 947.2140762463343\n",
    "kp = 31.28054740957967\n",
    "ki = 44.965786901270775\n",
    "kd = 947.2140762463343"
   ]
  },
  {
   "cell_type": "code",
   "execution_count": 58,
   "metadata": {},
   "outputs": [],
   "source": [
    "plant = tf([1], [64,9.6,0.48,0.008])\n",
    "pid = tf([kd,kp,ki], [1,0])"
   ]
  },
  {
   "cell_type": "code",
   "execution_count": 59,
   "metadata": {},
   "outputs": [
    {
     "data": {
      "text/plain": [
       "\n",
       "                1\n",
       "---------------------------------\n",
       "64 s^3 + 9.6 s^2 + 0.48 s + 0.008"
      ]
     },
     "execution_count": 59,
     "metadata": {},
     "output_type": "execute_result"
    }
   ],
   "source": [
    "plant"
   ]
  },
  {
   "cell_type": "code",
   "execution_count": 60,
   "metadata": {},
   "outputs": [],
   "source": [
    "sys = feedback(pid, plant, sign=1)"
   ]
  },
  {
   "cell_type": "code",
   "execution_count": 61,
   "metadata": {},
   "outputs": [],
   "source": [
    "time = np.arange(0,90)"
   ]
  },
  {
   "cell_type": "code",
   "execution_count": 62,
   "metadata": {},
   "outputs": [],
   "source": [
    "sys1 = feedback(pid*plant, 1)"
   ]
  },
  {
   "cell_type": "code",
   "execution_count": 63,
   "metadata": {},
   "outputs": [
    {
     "data": {
      "text/plain": [
       "<function matplotlib.pyplot.show>"
      ]
     },
     "execution_count": 63,
     "metadata": {},
     "output_type": "execute_result"
    },
    {
     "data": {
      "image/png": "[encoded data removed]",
      "text/plain": [
       "<Figure size 432x288 with 1 Axes>"
      ]
     },
     "metadata": {},
     "output_type": "display_data"
    }
   ],
   "source": [
    "# PID compensated Step Response\n",
    "t, s = step_response(sys1,T=time)\n",
    "target = np.linspace(1, 1, num=len(t))\n",
    "plt.figure()\n",
    "plt.plot(t,s,t,target)\n",
    "#plt.plot(t,s)\n",
    "plt.ylim([0,1.5])\n",
    "plt.ylabel(r'Magnitude')\n",
    "plt.xlabel(r'Time (sec)')\n",
    "plt.grid()\n",
    "plt.show"
   ]
  },
  {
   "cell_type": "code",
   "execution_count": null,
   "metadata": {},
   "outputs": [],
   "source": [
    "import matplotlib\n",
    "import numpy as np\n",
    "import matplotlib.pyplot as plt\n",
    "import scipy\n",
    "from scipy import signal\n",
    "from control import *"
   ]
  },
  {
   "cell_type": "code",
   "execution_count": null,
   "metadata": {},
   "outputs": [],
   "source": [
    "# Plant\n",
    "num = [1]\n",
    "den = [64,9.6,0.48,0.008]\n",
    "G = tf(num, den)\n",
    "\n",
    "# Plant Step Response\n",
    "t, s = step_response(G)\n",
    "\n",
    "#PID Controller\n",
    "kp = 0.0361 \n",
    "ki = 0.000731\n",
    "kd = 0.6999\n",
    "\n",
    "pid_num = [kd, kp, ki]\n",
    "pid_den = [1, 0]\n",
    "C = tf(pid_num,pid_den)\n",
    "\n",
    "# System\n",
    "T = feedback(C*G,1)"
   ]
  },
  {
   "cell_type": "code",
   "execution_count": null,
   "metadata": {},
   "outputs": [],
   "source": [
    "# PID compensated Step Response\n",
    "t, s = step_response(T)\n",
    "target = np.linspace(1, 1, num=len(t))\n",
    "plt.figure()\n",
    "plt.plot(t,s,t,target)\n",
    "#plt.plot(t,s)\n",
    "plt.ylim([0,1.5])\n",
    "plt.ylabel(r'Magnitude')\n",
    "plt.xlabel(r'Time (sec)')\n",
    "plt.grid()\n",
    "plt.show\n",
    "\n",
    "error = target - s"
   ]
  },
  {
   "cell_type": "code",
   "execution_count": null,
   "metadata": {},
   "outputs": [],
   "source": []
  },
  {
   "cell_type": "code",
   "execution_count": null,
   "metadata": {},
   "outputs": [],
   "source": []
  },
  {
   "cell_type": "code",
   "execution_count": null,
   "metadata": {},
   "outputs": [],
   "source": []
  },
  {
   "cell_type": "code",
   "execution_count": null,
   "metadata": {},
   "outputs": [],
   "source": []
  },
  {
   "cell_type": "code",
   "execution_count": 1,
   "metadata": {},
   "outputs": [],
   "source": [
    "import matplotlib\n",
    "import numpy\n",
    "from control import *\n",
    "import math"
   ]
  },
  {
   "cell_type": "code",
   "execution_count": 2,
   "metadata": {},
   "outputs": [],
   "source": [
    "from deap import base, creator\n",
    "# Crear clase FITNESS: ( Nombre de la clase, Delegando la clase como fitness, Posibles valores min y max del fitness )\n",
    "creator.create(\"ControllerFitness\", base.Fitness, weights=(1.0,))\n",
    "\n",
    "# Crear clase CROMOSOMA: ( Nombre de la clase, type de los valores de la clase, Establecer fitness con la clase anterior )\n",
    "creator.create(\"Controller\", list, fitness=creator.ControllerFitness)"
   ]
  },
  {
   "cell_type": "code",
   "execution_count": 3,
   "metadata": {},
   "outputs": [],
   "source": [
    "import random\n",
    "from deap import tools\n",
    "\n",
    "IND_SIZE = 30 # ki bits + kp bits + kd bits\n",
    "\n",
    "# Functions to initialize populations from individuals\n",
    "\n",
    "toolbox = base.Toolbox()\n",
    "\n",
    "# Crear el ATRIBUTO de cromosomas ( Nombre del registro para el toolbox, Función para crear un cromosoma aleatorio )\n",
    "toolbox.register(\"bit_attribute\", random.randint, 0, 1) # random.choice, '10')\n",
    "\n",
    "# Crear el CROMOSOMA ( Nombre del registro, , La clase cromosoma, La clase atributo, Tamaño de la población )\n",
    "# Cuando se llame a toolbox.individual(), este llamará a tool.initRepeat()\n",
    "toolbox.register(\"controller\", tools.initRepeat, creator.Controller, toolbox.bit_attribute, n=IND_SIZE)\n",
    "\n",
    "# Crear la POBLACIÓN ( Nombre del registro, , Type del cromosoma, El cromosoma )\n",
    "toolbox.register(\"population\", tools.initRepeat, list, toolbox.controller)"
   ]
  },
  {
   "cell_type": "code",
   "execution_count": 4,
   "metadata": {},
   "outputs": [],
   "source": [
    "ind = toolbox.controller()"
   ]
  },
  {
   "cell_type": "code",
   "execution_count": 70,
   "metadata": {},
   "outputs": [],
   "source": [
    "def evaluate(controller):\n",
    "    controller = ''.join(map(str,controller))\n",
    "    \n",
    "    # PID controller\n",
    "    _kp = int(controller[0:10],2)\n",
    "    _ki = int(controller[10:20],2)\n",
    "    _kd = int(controller[20:30],2)\n",
    "    \n",
    "    kp = 0 + _kp * ( (1000 - 0) / (math.pow(2,10) - 1) )\n",
    "    ki = 0 + _ki * ( (1000 - 0) / (math.pow(2,10) - 1) )\n",
    "    kd = 0 + _kd * ( (1000 - 0) / (math.pow(2,10) - 1) )\n",
    "    \n",
    "    # Plant\n",
    "    num = [1]\n",
    "    den = [64,9.6,0.48,0.008]\n",
    "    plant = tf(num, den)\n",
    "    \n",
    "    pid_num = [kd, kp, ki]\n",
    "    pid_den = [1, 0]\n",
    "    pid = tf(pid_num,pid_den)\n",
    "\n",
    "    # System\n",
    "    sys = feedback(pid*plant,1)\n",
    "    \n",
    "    # PID compensated Step Response\n",
    "    time = np.arange(0,900)\n",
    "    t, s = step_response(sys,T=time)\n",
    "    l = len(t)\n",
    "    \n",
    "    #total_error = sum(abs(1 - s))\n",
    "    \n",
    "    #total_error = sum(map(lambda x:abs(1-x)/l,s))\n",
    "    \n",
    "    total_error = 0\n",
    "    while (1-s[l-total_error-1]) < 0.01:\n",
    "        total_error = total_error + 1\n",
    "    \n",
    "    return (total_error),"
   ]
  },
  {
   "cell_type": "code",
   "execution_count": 71,
   "metadata": {},
   "outputs": [],
   "source": [
    "toolbox.register(\"mate\", tools.cxTwoPoint)\n",
    "toolbox.register(\"mutate\", tools.mutUniformInt, low=0, up=1, indpb=0.1)\n",
    "toolbox.register(\"select\", tools.selTournament, tournsize=3)\n",
    "toolbox.register(\"evaluate\", evaluate)"
   ]
  },
  {
   "cell_type": "code",
   "execution_count": 72,
   "metadata": {},
   "outputs": [],
   "source": [
    "ind = toolbox.controller()"
   ]
  },
  {
   "cell_type": "code",
   "execution_count": 73,
   "metadata": {},
   "outputs": [],
   "source": [
    "def main():\n",
    "    pop = toolbox.population(n=40)\n",
    "    # pop[0:100] = prev\n",
    "    CXPB, MUTPB, NGEN = 0.7, 0.1, 40\n",
    "\n",
    "    # Evaluate the entire population\n",
    "    fitnesses = list(map(toolbox.evaluate, pop))\n",
    "    for ind, fit in zip(pop, fitnesses):\n",
    "        ind.fitness.values = fit\n",
    "\n",
    "    minFit = (1,)\n",
    "    #while minFit > (0.02,):\n",
    "    for g in range(NGEN):\n",
    "        # Select the next generation individuals\n",
    "        offspring = toolbox.select(pop, len(pop))\n",
    "        # Clone the selected individuals\n",
    "        offspring = list(map(toolbox.clone, offspring))\n",
    "\n",
    "        # Apply crossover and mutation on the offspring\n",
    "        for child1, child2 in zip(offspring[::2], offspring[1::2]):\n",
    "            if random.random() < CXPB:\n",
    "                toolbox.mate(child1, child2)\n",
    "                del child1.fitness.values\n",
    "                del child2.fitness.values\n",
    "\n",
    "        for mutant in offspring:\n",
    "            if random.random() < MUTPB:\n",
    "                toolbox.mutate(mutant)\n",
    "                del mutant.fitness.values\n",
    "\n",
    "        # Evaluate the individuals with an invalid fitness\n",
    "        invalid_ind = [ind for ind in offspring if not ind.fitness.valid]\n",
    "        fitnesses = list(map(toolbox.evaluate, invalid_ind))\n",
    "        minFit = min(fitnesses)\n",
    "        print(\"=START=================================================================\")\n",
    "        print(fitnesses)\n",
    "        print(\"=END===================================================================\")\n",
    "        for ind, fit in zip(invalid_ind, fitnesses):\n",
    "            ind.fitness.values = fit\n",
    "\n",
    "        # The population is entirely replaced by the offspring\n",
    "        pop[:] = offspring\n",
    "    \n",
    "    \n",
    "    return pop"
   ]
  },
  {
   "cell_type": "code",
   "execution_count": 74,
   "metadata": {},
   "outputs": [
    {
     "data": {
      "text/plain": [
       "4"
      ]
     },
     "execution_count": 74,
     "metadata": {},
     "output_type": "execute_result"
    }
   ],
   "source": [
    "w = [1,2,3,4]\n",
    "w[len(w)-1]"
   ]
  },
  {
   "cell_type": "code",
   "execution_count": 75,
   "metadata": {},
   "outputs": [
    {
     "name": "stdout",
     "output_type": "stream",
     "text": [
      "=START=================================================================\n",
      "[(1,), (1,), (1,), (778,), (2,), (0,), (1,), (0,), (0,), (0,), (1,), (0,), (0,), (1,), (2,), (0,), (0,), (1,), (1,), (0,), (198,), (0,), (721,), (1,), (2,)]\n",
      "=END===================================================================\n",
      "=START=================================================================\n",
      "[(0,), (821,), (1,), (0,), (799,), (1,), (818,), (0,), (198,), (198,), (0,), (823,), (218,), (2,), (809,), (769,), (284,), (198,), (0,), (0,), (721,), (1,), (2,), (823,), (0,), (1,), (0,), (198,), (284,)]\n",
      "=END===================================================================\n",
      "=START=================================================================\n",
      "[(0,), (1,), (198,), (284,), (779,), (733,), (0,), (779,), (822,), (2,), (778,), (778,), (823,), (0,), (737,), (761,), (778,), (778,), (778,), (778,), (778,), (785,), (0,), (811,), (778,), (769,), (742,), (1,), (0,), (1,), (823,), (0,)]\n",
      "=END===================================================================\n",
      "=START=================================================================\n",
      "[(821,), (773,), (818,), (735,), (823,), (811,), (806,), (818,), (811,), (755,), (779,), (785,), (737,), (822,), (822,), (823,), (823,), (823,), (756,), (769,), (778,), (811,), (799,), (822,), (823,), (755,), (821,), (820,), (721,), (799,), (825,), (839,), (0,)]\n",
      "=END===================================================================\n",
      "=START=================================================================\n",
      "[(820,), (806,), (799,), (818,), (825,), (841,), (840,), (803,), (825,), (796,), (826,), (832,), (815,), (814,), (786,), (823,), (782,), (820,), (331,), (820,), (823,), (814,), (825,), (830,), (821,), (822,), (822,), (821,), (816,), (820,)]\n",
      "=END===================================================================\n",
      "=START=================================================================\n",
      "[(820,), (826,), (825,), (820,), (816,), (840,), (825,), (826,), (825,), (825,), (823,), (820,), (825,), (816,), (824,), (838,), (823,), (821,), (840,), (840,), (821,), (1,), (826,), (840,), (821,), (820,), (840,), (826,), (816,), (822,), (821,), (827,), (817,), (816,)]\n",
      "=END===================================================================\n",
      "=START=================================================================\n",
      "[(825,), (840,), (832,), (840,), (840,), (840,), (826,), (825,), (821,), (825,), (829,), (822,), (827,), (840,), (825,), (837,), (826,), (825,), (2,), (840,), (840,), (838,), (840,), (826,), (821,), (825,)]\n",
      "=END===================================================================\n",
      "=START=================================================================\n",
      "[(837,), (840,), (822,), (835,), (838,), (840,), (826,), (825,), (840,), (821,), (840,), (827,), (840,), (840,), (835,), (821,), (822,), (831,), (840,), (838,), (817,), (822,), (824,), (838,), (840,), (839,), (838,)]\n",
      "=END===================================================================\n",
      "=START=================================================================\n",
      "[(840,), (840,), (840,), (839,), (840,), (840,), (840,), (840,), (840,), (840,), (830,), (840,), (840,), (840,), (840,), (840,), (780,), (837,), (840,), (840,), (838,), (720,), (840,), (840,), (840,), (840,), (840,), (840,), (840,), (840,)]\n",
      "=END===================================================================\n",
      "=START=================================================================\n",
      "[(840,), (839,), (840,), (840,), (840,), (840,), (835,), (825,), (840,), (840,), (797,), (840,), (840,), (840,), (840,), (840,), (840,), (840,), (840,), (838,), (840,), (840,), (840,), (827,), (835,), (840,), (840,), (840,), (840,), (840,), (840,), (840,)]\n",
      "=END===================================================================\n",
      "=START=================================================================\n",
      "[(840,), (840,), (840,), (840,), (839,), (840,), (840,), (840,), (840,), (840,), (840,), (837,), (840,), (0,), (840,), (840,), (840,), (840,), (840,), (840,), (840,), (840,), (840,), (840,), (840,), (840,)]\n",
      "=END===================================================================\n",
      "=START=================================================================\n",
      "[(840,), (840,), (775,), (840,), (840,), (840,), (797,), (840,), (840,), (840,), (840,), (840,), (840,), (840,), (840,), (781,), (840,), (840,), (840,), (840,), (840,), (832,), (840,), (840,), (840,), (797,), (840,)]\n",
      "=END===================================================================\n",
      "=START=================================================================\n",
      "[(840,), (840,), (840,), (840,), (840,), (840,), (840,), (840,), (840,), (840,), (840,), (840,), (813,), (840,), (840,), (840,), (840,), (832,), (840,), (840,), (840,), (840,), (840,), (840,), (840,), (840,), (840,), (840,), (840,), (840,), (840,), (840,), (2,)]\n",
      "=END===================================================================\n",
      "=START=================================================================\n",
      "[(840,), (840,), (840,), (840,), (840,), (840,), (840,), (840,), (840,), (840,), (840,), (840,), (840,), (840,), (840,), (840,), (840,), (840,), (840,), (840,), (840,), (840,), (839,), (840,), (840,), (840,), (840,), (840,), (840,), (840,), (840,)]\n",
      "=END===================================================================\n",
      "=START=================================================================\n",
      "[(825,), (840,), (840,), (840,), (840,), (840,), (3,), (840,), (840,), (840,), (840,), (819,), (840,), (840,), (840,), (840,), (840,), (840,), (840,), (840,), (840,), (840,), (840,), (840,), (840,)]\n",
      "=END===================================================================\n",
      "=START=================================================================\n",
      "[(840,), (832,), (840,), (840,), (840,), (840,), (840,), (840,), (840,), (840,), (840,), (840,), (840,), (840,), (840,), (840,), (840,), (840,), (840,), (840,), (840,), (840,), (834,), (840,), (838,), (840,), (840,), (840,), (840,), (840,), (840,), (840,), (840,), (840,), (840,), (0,)]\n",
      "=END===================================================================\n",
      "=START=================================================================\n",
      "[(840,), (840,), (840,), (840,), (840,), (840,), (840,), (840,), (840,), (840,), (840,), (840,), (840,), (840,), (840,), (840,), (840,), (840,), (840,), (840,), (840,), (840,), (840,), (840,), (840,), (840,), (840,), (840,), (840,), (840,)]\n",
      "=END===================================================================\n",
      "=START=================================================================\n",
      "[(840,), (840,), (840,), (840,), (840,), (840,), (840,), (840,), (840,), (840,), (840,), (840,), (840,), (840,), (840,), (840,), (840,), (840,), (840,), (840,), (840,), (840,), (840,), (840,), (840,), (840,), (840,)]\n",
      "=END===================================================================\n",
      "=START=================================================================\n",
      "[(766,), (840,), (840,), (840,), (839,), (840,), (840,), (840,), (840,), (840,), (840,), (840,), (840,), (840,), (840,), (840,), (840,), (840,), (840,), (840,), (840,), (840,), (840,), (0,), (840,), (840,), (825,), (840,), (840,), (840,)]\n",
      "=END===================================================================\n",
      "=START=================================================================\n",
      "[(840,), (840,), (840,), (838,), (839,), (840,), (1,), (840,), (840,), (840,), (840,), (840,), (832,), (840,), (840,), (840,), (840,), (840,), (840,), (840,), (840,), (840,), (840,), (840,), (840,), (840,), (840,), (840,), (840,), (840,), (840,)]\n",
      "=END===================================================================\n",
      "=START=================================================================\n",
      "[(840,), (840,), (840,), (840,), (840,), (745,), (840,), (840,), (840,), (840,), (840,), (840,), (840,), (840,), (840,), (840,), (773,), (840,), (840,), (840,), (840,), (838,), (840,), (840,), (840,), (840,), (840,), (840,), (840,), (840,), (840,)]\n",
      "=END===================================================================\n",
      "=START=================================================================\n",
      "[(840,), (840,), (840,), (840,), (840,), (840,), (840,), (840,), (840,), (840,), (840,), (840,), (840,), (840,), (840,), (840,), (840,), (840,), (840,), (796,), (840,), (825,), (840,), (840,), (840,), (840,)]\n",
      "=END===================================================================\n"
     ]
    },
    {
     "name": "stdout",
     "output_type": "stream",
     "text": [
      "=START=================================================================\n",
      "[(840,), (840,), (840,), (840,), (840,), (840,), (840,), (840,), (840,), (840,), (840,), (838,), (840,), (840,), (840,), (840,), (840,), (840,), (840,), (840,), (840,), (825,), (0,), (840,), (840,), (797,), (840,), (840,), (840,), (840,)]\n",
      "=END===================================================================\n",
      "=START=================================================================\n",
      "[(840,), (840,), (840,), (840,), (840,), (840,), (840,), (840,), (840,), (840,), (840,), (840,), (840,), (840,), (840,), (840,), (840,), (840,), (840,), (840,), (840,), (840,), (840,), (840,), (840,), (837,), (840,), (840,), (840,), (840,), (840,), (840,)]\n",
      "=END===================================================================\n",
      "=START=================================================================\n",
      "[(840,), (840,), (840,), (840,), (833,), (840,), (840,), (840,), (840,), (840,), (1,), (840,), (840,), (840,), (840,), (0,), (840,), (840,), (840,), (840,), (840,), (840,), (840,), (840,), (840,), (840,)]\n",
      "=END===================================================================\n",
      "=START=================================================================\n",
      "[(840,), (840,), (817,), (840,), (840,), (840,), (840,), (840,), (840,), (814,), (840,), (840,), (840,), (840,), (840,), (840,), (840,), (840,), (810,), (840,), (840,), (840,), (840,), (840,), (840,)]\n",
      "=END===================================================================\n",
      "=START=================================================================\n",
      "[(840,), (840,), (840,), (840,), (840,), (840,), (840,), (840,), (840,), (840,), (840,), (840,), (840,), (840,), (840,), (840,), (840,), (840,), (840,), (840,), (840,), (840,), (840,), (840,), (840,), (840,), (840,), (840,), (840,), (840,), (840,), (840,)]\n",
      "=END===================================================================\n",
      "=START=================================================================\n",
      "[(840,), (840,), (840,), (840,), (840,), (840,), (840,), (840,), (840,), (840,), (840,), (840,), (840,), (840,), (840,), (840,), (840,), (840,), (840,), (840,), (840,), (840,), (840,), (840,), (840,), (840,), (840,)]\n",
      "=END===================================================================\n",
      "=START=================================================================\n",
      "[(0,), (840,), (840,), (840,), (840,), (840,), (840,), (840,), (840,), (840,), (840,), (840,), (840,), (840,), (840,), (840,), (840,), (840,), (840,), (840,), (840,), (840,), (840,), (840,), (840,), (840,)]\n",
      "=END===================================================================\n",
      "=START=================================================================\n",
      "[(840,), (840,), (840,), (840,), (835,), (840,), (840,), (840,), (840,), (840,), (840,), (840,), (840,), (840,), (840,), (840,), (840,), (840,), (840,), (840,), (840,), (840,), (840,), (840,), (840,), (840,), (839,), (840,), (840,), (825,), (836,), (840,), (3,)]\n",
      "=END===================================================================\n",
      "=START=================================================================\n",
      "[(840,), (840,), (840,), (840,), (840,), (840,), (840,), (840,), (840,), (840,), (840,), (840,), (840,), (840,), (840,), (840,), (840,), (840,), (840,), (840,), (840,), (840,), (840,), (840,), (840,), (840,), (840,), (840,)]\n",
      "=END===================================================================\n",
      "=START=================================================================\n",
      "[(840,), (840,), (840,), (840,), (840,), (840,), (840,), (840,), (840,), (840,), (840,), (840,), (840,), (840,), (825,), (840,), (840,), (840,), (840,), (840,), (840,), (840,), (840,), (840,), (840,), (840,), (840,), (840,), (840,), (840,), (840,)]\n",
      "=END===================================================================\n",
      "=START=================================================================\n",
      "[(840,), (840,), (840,), (840,), (6,), (840,), (840,), (832,), (840,), (840,), (840,), (840,), (840,), (840,), (840,), (840,), (840,), (840,), (840,), (840,), (825,), (840,), (840,), (840,), (840,), (840,), (840,), (840,), (840,), (840,)]\n",
      "=END===================================================================\n",
      "=START=================================================================\n",
      "[(840,), (1,), (840,), (840,), (840,), (840,), (838,), (840,), (840,), (840,), (840,), (840,), (840,), (840,), (840,), (840,), (840,), (840,), (840,), (840,), (840,), (840,), (840,), (840,), (840,), (840,), (840,), (840,)]\n",
      "=END===================================================================\n",
      "=START=================================================================\n",
      "[(840,), (840,), (840,), (840,), (840,), (840,), (840,), (840,), (840,), (840,), (840,), (840,), (827,), (840,), (840,), (840,), (830,), (607,), (840,), (840,), (840,), (840,), (840,), (840,), (840,), (840,), (840,), (840,)]\n",
      "=END===================================================================\n",
      "=START=================================================================\n",
      "[(835,), (840,), (840,), (840,), (840,), (840,), (840,), (840,), (840,), (840,), (840,), (840,), (840,), (840,), (840,), (840,), (840,), (840,), (840,), (840,), (840,), (840,), (817,), (805,), (840,), (840,), (840,), (840,), (840,), (840,), (840,), (840,), (840,), (840,), (840,)]\n",
      "=END===================================================================\n",
      "=START=================================================================\n",
      "[(840,), (840,), (840,), (840,), (840,), (0,), (838,), (840,), (840,), (840,), (840,), (840,), (785,), (840,), (0,), (840,), (840,), (840,), (840,), (840,), (840,), (469,), (840,), (837,), (840,), (840,), (840,), (840,)]\n",
      "=END===================================================================\n",
      "=START=================================================================\n",
      "[(840,), (840,), (840,), (840,), (840,), (840,), (840,), (840,), (840,), (840,), (840,), (840,), (840,), (840,), (840,), (840,), (840,), (840,), (840,), (840,), (732,), (840,), (840,)]\n",
      "=END===================================================================\n",
      "=START=================================================================\n",
      "[(840,), (840,), (840,), (840,), (840,), (840,), (840,), (840,), (840,), (840,), (840,), (840,), (840,), (840,), (840,), (840,), (840,), (840,), (840,), (840,), (840,), (2,), (840,), (835,), (0,), (840,), (840,), (840,), (840,)]\n",
      "=END===================================================================\n",
      "=START=================================================================\n",
      "[(835,), (840,), (840,), (840,), (840,), (840,), (817,), (840,), (840,), (840,), (840,), (840,), (840,), (840,), (840,), (840,), (840,), (840,), (840,), (840,), (840,)]\n",
      "=END===================================================================\n"
     ]
    }
   ],
   "source": [
    "kx = main()"
   ]
  },
  {
   "cell_type": "code",
   "execution_count": 76,
   "metadata": {},
   "outputs": [
    {
     "name": "stdout",
     "output_type": "stream",
     "text": [
      "[9, 77, 969, 8.79765395894428, 75.26881720430107, 947.2140762463343]\n",
      "[9, 77, 969, 8.79765395894428, 75.26881720430107, 947.2140762463343]\n",
      "[9, 9, 961, 8.79765395894428, 8.79765395894428, 939.3939393939394]\n",
      "[9, 77, 969, 8.79765395894428, 75.26881720430107, 947.2140762463343]\n",
      "[9, 77, 969, 8.79765395894428, 75.26881720430107, 947.2140762463343]\n",
      "[9, 77, 969, 8.79765395894428, 75.26881720430107, 947.2140762463343]\n",
      "[9, 77, 969, 8.79765395894428, 75.26881720430107, 947.2140762463343]\n",
      "[9, 77, 969, 8.79765395894428, 75.26881720430107, 947.2140762463343]\n",
      "[9, 77, 969, 8.79765395894428, 75.26881720430107, 947.2140762463343]\n",
      "[9, 77, 969, 8.79765395894428, 75.26881720430107, 947.2140762463343]\n",
      "[13, 77, 969, 12.70772238514174, 75.26881720430107, 947.2140762463343]\n",
      "[9, 77, 969, 8.79765395894428, 75.26881720430107, 947.2140762463343]\n",
      "[9, 77, 969, 8.79765395894428, 75.26881720430107, 947.2140762463343]\n",
      "[41, 77, 969, 40.07820136852395, 75.26881720430107, 947.2140762463343]\n",
      "[9, 77, 969, 8.79765395894428, 75.26881720430107, 947.2140762463343]\n",
      "[9, 77, 969, 8.79765395894428, 75.26881720430107, 947.2140762463343]\n",
      "[9, 77, 969, 8.79765395894428, 75.26881720430107, 947.2140762463343]\n",
      "[9, 77, 969, 8.79765395894428, 75.26881720430107, 947.2140762463343]\n",
      "[9, 77, 969, 8.79765395894428, 75.26881720430107, 947.2140762463343]\n",
      "[9, 77, 969, 8.79765395894428, 75.26881720430107, 947.2140762463343]\n",
      "[9, 77, 969, 8.79765395894428, 75.26881720430107, 947.2140762463343]\n",
      "[13, 77, 969, 12.70772238514174, 75.26881720430107, 947.2140762463343]\n",
      "[9, 77, 969, 8.79765395894428, 75.26881720430107, 947.2140762463343]\n",
      "[9, 77, 969, 8.79765395894428, 75.26881720430107, 947.2140762463343]\n",
      "[9, 77, 969, 8.79765395894428, 75.26881720430107, 947.2140762463343]\n",
      "[9, 77, 969, 8.79765395894428, 75.26881720430107, 947.2140762463343]\n",
      "[9, 77, 969, 8.79765395894428, 75.26881720430107, 947.2140762463343]\n",
      "[9, 77, 969, 8.79765395894428, 75.26881720430107, 947.2140762463343]\n",
      "[9, 77, 969, 8.79765395894428, 75.26881720430107, 947.2140762463343]\n",
      "[9, 77, 969, 8.79765395894428, 75.26881720430107, 947.2140762463343]\n",
      "[9, 77, 969, 8.79765395894428, 75.26881720430107, 947.2140762463343]\n",
      "[9, 77, 969, 8.79765395894428, 75.26881720430107, 947.2140762463343]\n",
      "[9, 77, 969, 8.79765395894428, 75.26881720430107, 947.2140762463343]\n",
      "[9, 77, 969, 8.79765395894428, 75.26881720430107, 947.2140762463343]\n",
      "[9, 77, 969, 8.79765395894428, 75.26881720430107, 947.2140762463343]\n",
      "[9, 76, 969, 8.79765395894428, 74.29130009775172, 947.2140762463343]\n",
      "[9, 77, 969, 8.79765395894428, 75.26881720430107, 947.2140762463343]\n",
      "[9, 77, 969, 8.79765395894428, 75.26881720430107, 947.2140762463343]\n",
      "[9, 77, 969, 8.79765395894428, 75.26881720430107, 947.2140762463343]\n",
      "[9, 77, 969, 8.79765395894428, 75.26881720430107, 947.2140762463343]\n"
     ]
    }
   ],
   "source": [
    "for bits in kx:\n",
    "    controller = ''.join(map(str,bits))\n",
    "    \n",
    "    # PID controller\n",
    "    _kp = int(controller[0:10],2)\n",
    "    _ki = int(controller[10:20],2)\n",
    "    _kd = int(controller[20:30],2)\n",
    "    \n",
    "    kp = 0 + _kp * ( (1000 - 0) / (pow(2,10) - 1) )\n",
    "    ki = 0 + _ki * ( (1000 - 0) / (pow(2,10) - 1) )\n",
    "    kd = 0 + _kd * ( (1000 - 0) / (pow(2,10) - 1) )\n",
    "    \n",
    "    print([_kp,_ki,_kd,kp,ki,kd])"
   ]
  },
  {
   "cell_type": "code",
   "execution_count": 54,
   "metadata": {},
   "outputs": [
    {
     "data": {
      "text/plain": [
       "(790,)"
      ]
     },
     "execution_count": 54,
     "metadata": {},
     "output_type": "execute_result"
    }
   ],
   "source": [
    "evaluate(kx[1])"
   ]
  },
  {
   "cell_type": "code",
   "execution_count": 55,
   "metadata": {},
   "outputs": [
    {
     "data": {
      "text/plain": [
       "[(790,),\n",
       " (790,),\n",
       " (790,),\n",
       " (790,),\n",
       " (790,),\n",
       " (790,),\n",
       " (790,),\n",
       " (790,),\n",
       " (790,),\n",
       " (790,),\n",
       " (790,),\n",
       " (790,),\n",
       " (790,),\n",
       " (790,),\n",
       " (790,),\n",
       " (790,),\n",
       " (790,),\n",
       " (790,),\n",
       " (790,),\n",
       " (790,),\n",
       " (785,),\n",
       " (790,),\n",
       " (790,),\n",
       " (790,),\n",
       " (790,),\n",
       " (790,),\n",
       " (790,),\n",
       " (790,),\n",
       " (790,),\n",
       " (790,),\n",
       " (790,),\n",
       " (790,),\n",
       " (790,),\n",
       " (790,),\n",
       " (790,),\n",
       " (790,),\n",
       " (790,),\n",
       " (790,),\n",
       " (790,),\n",
       " (790,),\n",
       " (790,),\n",
       " (790,),\n",
       " (790,),\n",
       " (790,),\n",
       " (790,),\n",
       " (790,),\n",
       " (790,),\n",
       " (790,),\n",
       " (790,),\n",
       " (790,),\n",
       " (790,),\n",
       " (790,),\n",
       " (703,),\n",
       " (790,),\n",
       " (766,),\n",
       " (790,),\n",
       " (790,),\n",
       " (790,),\n",
       " (790,),\n",
       " (790,),\n",
       " (790,),\n",
       " (790,),\n",
       " (790,),\n",
       " (790,),\n",
       " (703,),\n",
       " (790,),\n",
       " (790,),\n",
       " (790,),\n",
       " (790,),\n",
       " (790,),\n",
       " (790,),\n",
       " (790,),\n",
       " (790,),\n",
       " (790,),\n",
       " (790,),\n",
       " (790,),\n",
       " (790,),\n",
       " (790,),\n",
       " (790,),\n",
       " (790,),\n",
       " (790,),\n",
       " (790,),\n",
       " (790,),\n",
       " (790,),\n",
       " (790,),\n",
       " (790,),\n",
       " (790,),\n",
       " (650,),\n",
       " (790,),\n",
       " (790,),\n",
       " (790,),\n",
       " (790,),\n",
       " (790,),\n",
       " (790,),\n",
       " (790,),\n",
       " (790,),\n",
       " (790,),\n",
       " (790,),\n",
       " (790,),\n",
       " (790,)]"
      ]
     },
     "execution_count": 55,
     "metadata": {},
     "output_type": "execute_result"
    }
   ],
   "source": [
    "list(map(evaluate,kx))"
   ]
  },
  {
   "cell_type": "code",
   "execution_count": null,
   "metadata": {},
   "outputs": [],
   "source": [
    "controller = ''.join(map(str,kx[1]))\n",
    "    \n",
    "# PID controller\n",
    "_kp = int(controller[0:10],2)\n",
    "_ki = int(controller[10:20],2)\n",
    "_kd = int(controller[20:30],2)\n",
    "\n",
    "kp = 0 + _kp * ( (1000 - 0) / (pow(2,10) - 1) )\n",
    "ki = 0 + _ki * ( (1000 - 0) / (pow(2,10) - 1) )\n",
    "kd = 0 + _kd * ( (1000 - 0) / (pow(2,10) - 1) )\n",
    "    \n",
    "print([_kp,_ki,_kd,kp,ki,kd])"
   ]
  },
  {
   "cell_type": "code",
   "execution_count": null,
   "metadata": {},
   "outputs": [],
   "source": []
  },
  {
   "cell_type": "code",
   "execution_count": null,
   "metadata": {},
   "outputs": [],
   "source": []
  },
  {
   "cell_type": "code",
   "execution_count": null,
   "metadata": {},
   "outputs": [],
   "source": []
  },
  {
   "cell_type": "code",
   "execution_count": null,
   "metadata": {},
   "outputs": [],
   "source": []
  }
 ],
 "metadata": {
  "kernelspec": {
   "display_name": "Python 3",
   "language": "python",
   "name": "python3"
  },
  "language_info": {
   "codemirror_mode": {
    "name": "ipython",
    "version": 3
   },
   "file_extension": ".py",
   "mimetype": "text/x-python",
   "name": "python",
   "nbconvert_exporter": "python",
   "pygments_lexer": "ipython3",
   "version": "3.5.3"
  }
 },
 "nbformat": 4,
 "nbformat_minor": 2
}
