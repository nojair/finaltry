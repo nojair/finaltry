{
 "cells": [
  {
   "cell_type": "code",
   "execution_count": null,
   "metadata": {},
   "outputs": [],
   "source": [
    "# sudo chmod 777 /dev/ttyACM0\n",
    "# sudo chmod 777 /dev/ttyACM1"
   ]
  },
  {
   "cell_type": "code",
   "execution_count": 67,
   "metadata": {
    "scrolled": false
   },
   "outputs": [],
   "source": [
    "%matplotlib notebook\n",
    "\n",
    "# run this in a Jupyter (IPython) Notebook!\n",
    "# modified from http://www.lebsanft.org/?p=48\n",
    "# http://pyserial.readthedocs.org/en/latest/pyserial_api.html\n",
    "import serial\n",
    "import numpy as np\n",
    "from matplotlib import pyplot as plt\n",
    "from time import time\n",
    "\n",
    "# If you're not using Linux, you'll need to change this\n",
    "# check the Arduino IDE to see what serial port it's attached to\n",
    "ser = serial.Serial('/dev/ttyACM0', 115200)\n",
    "\n",
    "'''\n",
    "# set plot to animated\n",
    "plt.ion()\n",
    "'''\n",
    "\n",
    "start_time = time()\n",
    "timepoints = []\n",
    "ydata = []\n",
    "yydata = []\n",
    "yrange = [-0.1,5.1]\n",
    "view_time = 4 # seconds of data to view at once\n",
    "duration = 900 # total seconds to collect data\n",
    "\n",
    "'''\n",
    "fig1 = plt.figure()\n",
    "# http://matplotlib.org/users/text_props.html\n",
    "fig1.suptitle('live updated data', fontsize='18', fontweight='bold')\n",
    "plt.xlabel('time, seconds', fontsize='14', fontstyle='italic')\n",
    "plt.ylabel('potential, volts', fontsize='14', fontstyle='italic')\n",
    "plt.axes().grid(True)\n",
    "line1, = plt.plot(ydata,marker='o',markersize=4,linestyle='none',markerfacecolor='red')\n",
    "plt.ylim(yrange)\n",
    "plt.xlim([0,view_time])\n",
    "'''\n",
    "\n",
    "# flush any junk left in the serial buffer\n",
    "ser.flushInput()\n",
    "# ser.reset_input_buffer() # for pyserial 3.0+\n",
    "run = True\n",
    "\n",
    "# collect the data and plot a moving frame\n",
    "while run:\n",
    "    ser.reset_input_buffer()\n",
    "    data = ser.readline().decode(\"utf-8\").split(' ')\n",
    "    \n",
    "    # sometimes the incoming data is garbage, so just 'try' to do this\n",
    "    try:\n",
    "        # store the entire dataset for later\n",
    "        ydata.append(float(data[0]))\n",
    "        yydata.append(float(data[1]))\n",
    "        timepoints.append(time()-start_time)\n",
    "        current_time = timepoints[-1]\n",
    "        \n",
    "        # update the plotted data\n",
    "        line1.set_xdata(timepoints)\n",
    "        line1.set_ydata(ydata)\n",
    "        \n",
    "        '''\n",
    "        # slide the viewing frame along\n",
    "        if current_time > view_time:\n",
    "            plt.xlim([current_time-view_time,current_time])\n",
    "        '''\n",
    "            \n",
    "        # when time's up, kill the collect+plot loop\n",
    "        if timepoints[-1] > duration: run=False\n",
    "    \n",
    "    # if the try statement throws an error, just do nothing\n",
    "    except: pass\n",
    "    \n",
    "'''    \n",
    "    # update the plot\n",
    "    fig1.canvas.draw()\n",
    "\n",
    "# plot all of the data you collected\n",
    "fig2 = plt.figure()\n",
    "# http://matplotlib.org/users/text_props.html\n",
    "fig2.suptitle('complete data trace', fontsize='18', fontweight='bold')\n",
    "plt.xlabel('time, seconds', fontsize='14', fontstyle='italic')\n",
    "plt.ylabel('potential, volts', fontsize='14', fontstyle='italic')\n",
    "plt.axes().grid(True)\n",
    "\n",
    "plt.plot(timepoints, ydata,marker='o',markersize=4,linestyle='none',markerfacecolor='red')\n",
    "plt.ylim(yrange)\n",
    "fig2.show()\n",
    "'''\n",
    "\n",
    "ser.close()"
   ]
  },
  {
   "cell_type": "code",
   "execution_count": 44,
   "metadata": {
    "scrolled": true
   },
   "outputs": [],
   "source": [
    "ser = serial.Serial('/dev/ttyACM0', 115200)"
   ]
  },
  {
   "cell_type": "code",
   "execution_count": 45,
   "metadata": {},
   "outputs": [],
   "source": [
    "# flush any junk left in the serial buffer\n",
    "ser.flushInput()"
   ]
  },
  {
   "cell_type": "code",
   "execution_count": 56,
   "metadata": {},
   "outputs": [
    {
     "data": {
      "text/plain": [
       "['506', '59', '\\r\\n']"
      ]
     },
     "execution_count": 56,
     "metadata": {},
     "output_type": "execute_result"
    }
   ],
   "source": [
    "ser.reset_input_buffer()\n",
    "data = ser.readline().decode(\"utf-8\").split(' ')\n",
    "data"
   ]
  },
  {
   "cell_type": "code",
   "execution_count": 66,
   "metadata": {
    "scrolled": false
   },
   "outputs": [
    {
     "data": {
      "text/plain": [
       "[140.0,\n",
       " 232.0,\n",
       " 19.0,\n",
       " 158.0,\n",
       " 38.0,\n",
       " 175.0,\n",
       " 197.0,\n",
       " 114.0,\n",
       " 68.0,\n",
       " 188.0,\n",
       " 109.0,\n",
       " 120.0,\n",
       " 80.0,\n",
       " 102.0,\n",
       " 47.0,\n",
       " 102.0,\n",
       " 143.0,\n",
       " 142.0,\n",
       " 79.0,\n",
       " 160.0,\n",
       " 52.0,\n",
       " 3.0,\n",
       " 124.0,\n",
       " 114.0,\n",
       " 32.0,\n",
       " 70.0,\n",
       " 18.0,\n",
       " 189.0,\n",
       " 123.0,\n",
       " 116.0,\n",
       " 190.0,\n",
       " 247.0,\n",
       " 56.0,\n",
       " 17.0,\n",
       " 157.0,\n",
       " 230.0,\n",
       " 3.0,\n",
       " 139.0,\n",
       " 79.0,\n",
       " 204.0,\n",
       " 66.0,\n",
       " 22.0,\n",
       " 167.0,\n",
       " 208.0,\n",
       " 141.0,\n",
       " 155.0,\n",
       " 125.0,\n",
       " 158.0,\n",
       " 16.0,\n",
       " 54.0,\n",
       " 157.0,\n",
       " 56.0,\n",
       " 53.0,\n",
       " 118.0,\n",
       " 49.0,\n",
       " 163.0,\n",
       " 35.0,\n",
       " 84.0,\n",
       " 116.0,\n",
       " 30.0,\n",
       " 193.0,\n",
       " 22.0,\n",
       " 211.0,\n",
       " 24.0,\n",
       " 89.0,\n",
       " 251.0,\n",
       " 223.0,\n",
       " 42.0,\n",
       " 123.0,\n",
       " 228.0,\n",
       " 43.0,\n",
       " 13.0,\n",
       " 211.0,\n",
       " 160.0,\n",
       " 178.0,\n",
       " 15.0,\n",
       " 154.0,\n",
       " 233.0,\n",
       " 126.0,\n",
       " 200.0,\n",
       " 14.0,\n",
       " 30.0,\n",
       " 19.0,\n",
       " 234.0,\n",
       " 106.0,\n",
       " 32.0,\n",
       " 185.0]"
      ]
     },
     "execution_count": 66,
     "metadata": {},
     "output_type": "execute_result"
    }
   ],
   "source": [
    "yydata"
   ]
  },
  {
   "cell_type": "code",
   "execution_count": 68,
   "metadata": {},
   "outputs": [],
   "source": [
    "ydata_par = ydata #ydata[1:][::2] # slicing function\n",
    "ydata_impar = yydata #ydata[::2] # slicing function"
   ]
  },
  {
   "cell_type": "code",
   "execution_count": null,
   "metadata": {},
   "outputs": [],
   "source": [
    "Q = zip(ydata_par, ydata_impar)"
   ]
  },
  {
   "cell_type": "code",
   "execution_count": 69,
   "metadata": {},
   "outputs": [],
   "source": [
    "import xlsxwriter\n",
    "\n",
    "workbook = xlsxwriter.Workbook('hello.xlsx')\n",
    "worksheet = workbook.add_worksheet()\n",
    "\n",
    "worksheet.write('A1', 'time')\n",
    "worksheet.write('B1', 'pwm')\n",
    "worksheet.write('C1', 'temp')\n",
    "\n",
    "k  = 1\n",
    "Ts = 0.025\n",
    "\n",
    "for pwm, temp in zip(ydata_par, ydata_impar):\n",
    "    worksheet.write(k, 0, Ts * k)\n",
    "    worksheet.write(k, 1, pwm)\n",
    "    worksheet.write(k, 2, temp)\n",
    "    k += 1\n",
    "    \n",
    "workbook.close()"
   ]
  },
  {
   "cell_type": "code",
   "execution_count": null,
   "metadata": {},
   "outputs": [],
   "source": []
  }
 ],
 "metadata": {
  "kernelspec": {
   "display_name": "Python 3",
   "language": "python",
   "name": "python3"
  }
 },
 "nbformat": 4,
 "nbformat_minor": 2
}
